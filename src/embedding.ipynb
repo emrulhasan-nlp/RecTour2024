{
 "cells": [
  {
   "cell_type": "code",
   "execution_count": 1,
   "id": "25fb5be5-dfb2-4e37-8bdf-cdfac6c62430",
   "metadata": {},
   "outputs": [],
   "source": [
    "import pandas as pd\n",
    "import ast"
   ]
  },
  {
   "cell_type": "code",
   "execution_count": 2,
   "id": "e381e159-498b-4ad4-a2e7-2746182bbfd0",
   "metadata": {},
   "outputs": [],
   "source": [
    "df = pd.read_csv(\"sample.csv\").sample(100)"
   ]
  },
  {
   "cell_type": "code",
   "execution_count": 3,
   "id": "c4e581d6-75ff-40db-9afb-b5a0bd47c2cc",
   "metadata": {},
   "outputs": [
    {
     "data": {
      "text/html": [
       "<div>\n",
       "<style scoped>\n",
       "    .dataframe tbody tr th:only-of-type {\n",
       "        vertical-align: middle;\n",
       "    }\n",
       "\n",
       "    .dataframe tbody tr th {\n",
       "        vertical-align: top;\n",
       "    }\n",
       "\n",
       "    .dataframe thead th {\n",
       "        text-align: right;\n",
       "    }\n",
       "</style>\n",
       "<table border=\"1\" class=\"dataframe\">\n",
       "  <thead>\n",
       "    <tr style=\"text-align: right;\">\n",
       "      <th></th>\n",
       "      <th>accommodation_id</th>\n",
       "      <th>review_item</th>\n",
       "      <th>user_items</th>\n",
       "    </tr>\n",
       "  </thead>\n",
       "  <tbody>\n",
       "    <tr>\n",
       "      <th>646</th>\n",
       "      <td>-159053808</td>\n",
       "      <td>{'9cac87ca-46af-4b8c-85c6-7e44569b63a4': [nan,...</td>\n",
       "      <td>{'06cfa4c4-8c0f-487c-b1ea-315d9defbfa7': ['Nuk...</td>\n",
       "    </tr>\n",
       "    <tr>\n",
       "      <th>236</th>\n",
       "      <td>665464217</td>\n",
       "      <td>{'45236732-c94a-473a-bd66-6c3c06cdebd8': [nan,...</td>\n",
       "      <td>{'eb1aac97-dac1-49d6-9b5a-f551f426ca42': ['Zuc...</td>\n",
       "    </tr>\n",
       "    <tr>\n",
       "      <th>8906</th>\n",
       "      <td>-2139443913</td>\n",
       "      <td>{'e0215471-b36c-437a-8b20-76a3ea6dfe34': ['Did...</td>\n",
       "      <td>{'34d9e55f-67ad-4f9d-bb0c-e8dd04cc8946': ['Cej...</td>\n",
       "    </tr>\n",
       "  </tbody>\n",
       "</table>\n",
       "</div>"
      ],
      "text/plain": [
       "      accommodation_id                                        review_item  \\\n",
       "646         -159053808  {'9cac87ca-46af-4b8c-85c6-7e44569b63a4': [nan,...   \n",
       "236          665464217  {'45236732-c94a-473a-bd66-6c3c06cdebd8': [nan,...   \n",
       "8906       -2139443913  {'e0215471-b36c-437a-8b20-76a3ea6dfe34': ['Did...   \n",
       "\n",
       "                                             user_items  \n",
       "646   {'06cfa4c4-8c0f-487c-b1ea-315d9defbfa7': ['Nuk...  \n",
       "236   {'eb1aac97-dac1-49d6-9b5a-f551f426ca42': ['Zuc...  \n",
       "8906  {'34d9e55f-67ad-4f9d-bb0c-e8dd04cc8946': ['Cej...  "
      ]
     },
     "execution_count": 3,
     "metadata": {},
     "output_type": "execute_result"
    }
   ],
   "source": [
    "df.head(3)"
   ]
  },
  {
   "cell_type": "code",
   "execution_count": 7,
   "id": "710ab67b-684d-43fc-a4b3-3e0f81b2a5e3",
   "metadata": {},
   "outputs": [
    {
     "data": {
      "text/plain": [
       "'import pandas as pd\\nimport numpy as np\\nimport ast\\n\\n# Load the CSV file into a DataFrame\\ndf = pd.read_csv(\\'sample.csv\\')\\n\\n# Initialize an empty dictionary to store the results\\nparsed_result = {}\\n\\n# Process each row in the DataFrame\\nfor _, row in df.iterrows():\\n    review_item_str = row[\\'review_item\\']\\n    \\n    # Replace \\'nan\\' with \\'None\\' for proper parsing\\n    review_item_str = review_item_str.replace(\\'nan\\', \\'None\\')\\n\\n    # Safely parse the dictionary in the \\'review_item\\' column\\n    try:\\n        review_item = ast.literal_eval(review_item_str)\\n    except (ValueError, SyntaxError) as e:\\n        print(f\"Error parsing dictionary for row: {row}. Error: {e}\")\\n        continue\\n\\n    # Extract each key-value pair from the dictionary\\n    for key, value in review_item.items():\\n        # Convert \\'None\\' to np.nan\\n        parsed_result[key] = [np.nan if v is None else v for v in value]\\n\\n# print(parsed_result)\\n\\n# Optionally, save the result to a new CSV file\\n# Convert the dictionary to a DataFrame\\nresult_df = pd.DataFrame(list(parsed_result.items()), columns=[\\'key\\', \\'value\\'])\\nresult_df.to_csv(\\'D:\\\\Sajib\\\\Ractour_project\\\\parsed_result.csv\\', index=False)\\nprint(result_df.value)'"
      ]
     },
     "execution_count": 7,
     "metadata": {},
     "output_type": "execute_result"
    }
   ],
   "source": [
    "'''import pandas as pd\n",
    "import numpy as np\n",
    "import ast\n",
    "\n",
    "# Load the CSV file into a DataFrame\n",
    "df = pd.read_csv('sample.csv')\n",
    "\n",
    "# Initialize an empty dictionary to store the results\n",
    "parsed_result = {}\n",
    "\n",
    "# Process each row in the DataFrame\n",
    "for _, row in df.iterrows():\n",
    "    review_item_str = row['review_item']\n",
    "    \n",
    "    # Replace 'nan' with 'None' for proper parsing\n",
    "    review_item_str = review_item_str.replace('nan', 'None')\n",
    "\n",
    "    # Safely parse the dictionary in the 'review_item' column\n",
    "    try:\n",
    "        review_item = ast.literal_eval(review_item_str)\n",
    "    except (ValueError, SyntaxError) as e:\n",
    "        print(f\"Error parsing dictionary for row: {row}. Error: {e}\")\n",
    "        continue\n",
    "\n",
    "    # Extract each key-value pair from the dictionary\n",
    "    for key, value in review_item.items():\n",
    "        # Convert 'None' to np.nan\n",
    "        parsed_result[key] = [np.nan if v is None else v for v in value]\n",
    "\n",
    "# print(parsed_result)\n",
    "\n",
    "# Optionally, save the result to a new CSV file\n",
    "# Convert the dictionary to a DataFrame\n",
    "result_df = pd.DataFrame(list(parsed_result.items()), columns=['key', 'value'])\n",
    "result_df.to_csv('D:\\Sajib\\Ractour_project\\parsed_result.csv', index=False)\n",
    "print(result_df.value)'''\n"
   ]
  },
  {
   "cell_type": "code",
   "execution_count": null,
   "id": "6ff76dda-2864-4649-9b57-421ef2f5360c",
   "metadata": {},
   "outputs": [],
   "source": []
  },
  {
   "cell_type": "code",
   "execution_count": 6,
   "id": "ab4e2b08-c36b-41ad-b84a-376e9c1e6391",
   "metadata": {},
   "outputs": [
    {
     "data": {
      "text/html": [
       "<div>\n",
       "<style scoped>\n",
       "    .dataframe tbody tr th:only-of-type {\n",
       "        vertical-align: middle;\n",
       "    }\n",
       "\n",
       "    .dataframe tbody tr th {\n",
       "        vertical-align: top;\n",
       "    }\n",
       "\n",
       "    .dataframe thead th {\n",
       "        text-align: right;\n",
       "    }\n",
       "</style>\n",
       "<table border=\"1\" class=\"dataframe\">\n",
       "  <thead>\n",
       "    <tr style=\"text-align: right;\">\n",
       "      <th></th>\n",
       "      <th>key</th>\n",
       "      <th>value</th>\n",
       "    </tr>\n",
       "  </thead>\n",
       "  <tbody>\n",
       "    <tr>\n",
       "      <th>0</th>\n",
       "      <td>cb54d0aa-6eaa-429c-82a4-f46493431482</td>\n",
       "      <td>[nan, 1]</td>\n",
       "    </tr>\n",
       "    <tr>\n",
       "      <th>1</th>\n",
       "      <td>f031c780-c500-4379-a69f-c0f47fdeaf81</td>\n",
       "      <td>[nan, 0]</td>\n",
       "    </tr>\n",
       "    <tr>\n",
       "      <th>2</th>\n",
       "      <td>71779ee4-1ee7-4976-ade9-7f8c85a3c486</td>\n",
       "      <td>['Voortreffelijk', 0]</td>\n",
       "    </tr>\n",
       "    <tr>\n",
       "      <th>3</th>\n",
       "      <td>0a7746ec-dcb9-4ff9-aacd-3153f8d7cd72</td>\n",
       "      <td>['Cosy overnight stay with great breakfast', 0]</td>\n",
       "    </tr>\n",
       "    <tr>\n",
       "      <th>4</th>\n",
       "      <td>c45daee9-a4f0-4dbb-a5b0-2eb2c7c58770</td>\n",
       "      <td>['Excellent stay', 0]</td>\n",
       "    </tr>\n",
       "  </tbody>\n",
       "</table>\n",
       "</div>"
      ],
      "text/plain": [
       "                                    key  \\\n",
       "0  cb54d0aa-6eaa-429c-82a4-f46493431482   \n",
       "1  f031c780-c500-4379-a69f-c0f47fdeaf81   \n",
       "2  71779ee4-1ee7-4976-ade9-7f8c85a3c486   \n",
       "3  0a7746ec-dcb9-4ff9-aacd-3153f8d7cd72   \n",
       "4  c45daee9-a4f0-4dbb-a5b0-2eb2c7c58770   \n",
       "\n",
       "                                             value  \n",
       "0                                         [nan, 1]  \n",
       "1                                         [nan, 0]  \n",
       "2                            ['Voortreffelijk', 0]  \n",
       "3  ['Cosy overnight stay with great breakfast', 0]  \n",
       "4                            ['Excellent stay', 0]  "
      ]
     },
     "execution_count": 6,
     "metadata": {},
     "output_type": "execute_result"
    }
   ],
   "source": [
    "df= pd.read_csv(\"parsed_result.csv\")\n",
    "df.head()"
   ]
  },
  {
   "cell_type": "code",
   "execution_count": null,
   "id": "b6da307a-19b8-4088-b7c6-63f17bc7ad39",
   "metadata": {},
   "outputs": [],
   "source": []
  }
 ],
 "metadata": {
  "kernelspec": {
   "display_name": "Python 3 (ipykernel)",
   "language": "python",
   "name": "python3"
  },
  "language_info": {
   "codemirror_mode": {
    "name": "ipython",
    "version": 3
   },
   "file_extension": ".py",
   "mimetype": "text/x-python",
   "name": "python",
   "nbconvert_exporter": "python",
   "pygments_lexer": "ipython3",
   "version": "3.11.7"
  }
 },
 "nbformat": 4,
 "nbformat_minor": 5
}
